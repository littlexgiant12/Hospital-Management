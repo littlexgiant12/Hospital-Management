{
 "cells": [
  {
   "cell_type": "code",
   "execution_count": null,
   "id": "2f613098-406e-4162-b42d-b04489025c4e",
   "metadata": {},
   "outputs": [
    {
     "name": "stdin",
     "output_type": "stream",
     "text": [
      "1)Add new patient\n",
      "2)Print all patients\n",
      "3)Get next patient\n",
      "4)Remove a leaving patient\n",
      "5)End the program\n",
      "Enter your choice (from 1 to 5): 2\n"
     ]
    },
    {
     "name": "stdout",
     "output_type": "stream",
     "text": [
      "Children: There are 0 patients\n",
      "Heart: There are 0 patients\n",
      "Physiotherapist: There are 0 patients\n",
      "ENT: There are 0 patients\n"
     ]
    }
   ],
   "source": [
    "class hospital:\n",
    "    def __init__(self):\n",
    "        self.patients = {'Children':{'super urgent':[], 'urgent':[], 'normal':[]},\n",
    "                         'Heart':{'super urgent':[], 'urgent':[], 'normal':[]} ,\n",
    "                         'Physiotherapist':{'super urgent':[], 'urgent':[], 'normal':[]},\n",
    "                         'ENT':{'super urgent':[], 'urgent':[], 'normal':[]}\n",
    "                        }\n",
    "    \n",
    "    def get_spec(self):\n",
    "        self.children = print('1. Children')\n",
    "        self.heart =  print('2. Heart')\n",
    "        self.physio = print('3. Physiotherapist')\n",
    "        self.ENT = print('4. ENT')\n",
    "        spec = int(input(\"Enter Specialization: \"))\n",
    "        if spec == 1:\n",
    "            return 'Children'\n",
    "        elif spec == 2:\n",
    "            return \"Heart\"\n",
    "        elif spec == 3:\n",
    "            return 'Physiotherapist'\n",
    "        elif spec == 4:\n",
    "            return 'ENT'\n",
    "        else:\n",
    "            print(\"Invalid specialization.\")\n",
    "            return None\n",
    "\n",
    "    def get_status(self):\n",
    "        self.status = int(input('0 normal / 1 urgent / 2 super urgent: '))\n",
    "        if self.status == 0:\n",
    "            return 'normal'\n",
    "        elif self.status == 1:\n",
    "            return 'urgent'\n",
    "        elif self.status == 2:\n",
    "            return 'super urgent'\n",
    "        else:\n",
    "            print(\"Invalid specialization\")\n",
    "            return None\n",
    "\n",
    "    def add_patients(self):\n",
    "        specialisation = self.get_spec()\n",
    "        name = input(\"Enter the name: \")\n",
    "        status = self.get_status()\n",
    "        if specialisation and status:\n",
    "            self.patients[specialisation][status].append(name)\n",
    "\n",
    "    def print_all_patients(self):\n",
    "        for key,value in (self.patients).items():\n",
    "            self.count = sum(len(patients) for patients in value.values())\n",
    "            print(f\"{key}: There are {self.count} patients\")\n",
    "            for i,y in value.items():\n",
    "                for patients in y:\n",
    "                    print('Patient:',patients, 'is' ,i)\n",
    "\n",
    "    def options(self):\n",
    "        while True:\n",
    "            option = int(input('''1)Add new patient\n",
    "2)Print all patients\n",
    "3)Get next patient\n",
    "4)Remove a leaving patient\n",
    "5)End the program\n",
    "Enter your choice (from 1 to 5):'''))\n",
    "            if option == 1:\n",
    "                self.add_patients()\n",
    "\n",
    "            elif option == 2:\n",
    "                self.print_all_patients()\n",
    "\n",
    "            elif option == 3:\n",
    "                self.next_patient()\n",
    "                \n",
    "            elif option == 4:\n",
    "                self.leaving_patient()\n",
    "                \n",
    "            elif option == 5:\n",
    "                print(\"Exiting\")\n",
    "                break\n",
    "            else:\n",
    "                print(\"Invalid! Please choose from 1 to 5\")\n",
    "\n",
    "    def next_patient(self):\n",
    "        spec = self.get_spec()\n",
    "        if spec:\n",
    "            for status in ['super urgent', 'urgent','normal']:\n",
    "                if self.patients[spec][status]:\n",
    "                    nxt = self.patients[spec][status].pop(0)\n",
    "                    print(f\"{nxt} please go with the doc\")\n",
    "                    break\n",
    "            else:\n",
    "                print(f\"No patients at the moment. Have rest, Dr\")\n",
    "                \n",
    "    def leaving_patient(self):\n",
    "        spec = self.get_spec()\n",
    "        \n",
    "        if spec:\n",
    "            name = input(\"Enter the name: \")\n",
    "            for status, patients in self.patients[spec].items():\n",
    "                if name in patients:\n",
    "                    patients.remove(name)\n",
    "                    print(f\"{spec}: {name} is leaving.\")\n",
    "                    break\n",
    "            else:\n",
    "                print('No patient with such a name in this specialization!')\n",
    "        \n",
    "\n",
    "\n",
    "class c_hospital(hospital):\n",
    "    def patient(self):\n",
    "        super().options()\n",
    "    \n",
    "\n",
    "\n",
    "k = c_hospital()\n",
    "k.patient()"
   ]
  },
  {
   "cell_type": "code",
   "execution_count": null,
   "id": "335475b1-696a-4311-a04b-4495a4831a98",
   "metadata": {},
   "outputs": [],
   "source": [
    "k = c_hospital()"
   ]
  },
  {
   "cell_type": "code",
   "execution_count": null,
   "id": "f1847199-1380-40d3-a85a-37f46d8e1652",
   "metadata": {},
   "outputs": [],
   "source": [
    "k.patient()"
   ]
  },
  {
   "cell_type": "code",
   "execution_count": 5,
   "id": "e6863dc5-39ea-4dd4-9858-6aafce3c9490",
   "metadata": {},
   "outputs": [
    {
     "ename": "NameError",
     "evalue": "name 'k' is not defined",
     "output_type": "error",
     "traceback": [
      "\u001b[1;31m---------------------------------------------------------------------------\u001b[0m",
      "\u001b[1;31mNameError\u001b[0m                                 Traceback (most recent call last)",
      "Cell \u001b[1;32mIn[5], line 1\u001b[0m\n\u001b[1;32m----> 1\u001b[0m k\u001b[38;5;241m.\u001b[39mpatient()\n",
      "\u001b[1;31mNameError\u001b[0m: name 'k' is not defined"
     ]
    }
   ],
   "source": [
    "k.patient()"
   ]
  },
  {
   "cell_type": "code",
   "execution_count": null,
   "id": "ff97aa40-186f-45fd-86da-f6e7560b3998",
   "metadata": {},
   "outputs": [],
   "source": [
    "list = [ ]\n",
    "for i in range(5):\n",
    "    pat = input(\"Enter the name:\")\n",
    "    list.append(pat)"
   ]
  },
  {
   "cell_type": "code",
   "execution_count": 10,
   "id": "294eb2d7-2a8a-41ca-a58f-8cf3b20ec0b7",
   "metadata": {},
   "outputs": [
    {
     "data": {
      "text/plain": [
       "list"
      ]
     },
     "execution_count": 10,
     "metadata": {},
     "output_type": "execute_result"
    }
   ],
   "source": [
    "list"
   ]
  },
  {
   "cell_type": "code",
   "execution_count": 32,
   "id": "7d337baf-85f9-4a8b-a30c-3c9b79e0c353",
   "metadata": {},
   "outputs": [
    {
     "data": {
      "text/plain": [
       "[12, 10, 9, 8, 7, 6, 5, 4, 2, 2, 1]"
      ]
     },
     "execution_count": 32,
     "metadata": {},
     "output_type": "execute_result"
    }
   ],
   "source": [
    "st =[1,2,4,5,6,9,7,8,2,10,12]\n",
    "st.sort()\n",
    "st[::-1]\n",
    "\n"
   ]
  },
  {
   "cell_type": "code",
   "execution_count": 70,
   "id": "28fb4d94-0d11-4bf6-abaa-d9cfb438658f",
   "metadata": {},
   "outputs": [],
   "source": [
    "x = 'ay'"
   ]
  },
  {
   "cell_type": "code",
   "execution_count": 72,
   "id": "7fb51e35-3bbd-450b-8e91-0b3f82c148a6",
   "metadata": {},
   "outputs": [],
   "source": [
    "x= 'ya'"
   ]
  },
  {
   "cell_type": "code",
   "execution_count": 74,
   "id": "2c3293b6-447b-4e45-9eaa-53381b91ebd2",
   "metadata": {},
   "outputs": [
    {
     "data": {
      "text/plain": [
       "'ya'"
      ]
     },
     "execution_count": 74,
     "metadata": {},
     "output_type": "execute_result"
    }
   ],
   "source": [
    "x"
   ]
  },
  {
   "cell_type": "code",
   "execution_count": 9,
   "id": "a9528210-3dd5-4935-bf2f-50769eff4352",
   "metadata": {},
   "outputs": [
    {
     "name": "stdin",
     "output_type": "stream",
     "text": [
      "Enter the value:  0\n"
     ]
    },
    {
     "name": "stdout",
     "output_type": "stream",
     "text": [
      "[0, 0, 0, 0, 0]\n"
     ]
    }
   ],
   "source": [
    "a = int(input(\"Enter the value: \"))\n",
    "b=[]\n",
    "for i in range(5):\n",
    "    if a == 0:\n",
    "        b.insert(0,a)\n",
    "\n",
    "print(b)\n",
    "        "
   ]
  },
  {
   "cell_type": "code",
   "execution_count": 1,
   "id": "90e964ae-5103-4acc-b684-a7921e6d28aa",
   "metadata": {},
   "outputs": [
    {
     "name": "stdout",
     "output_type": "stream",
     "text": [
      "[1, 2, 3, 0, 100, 4, 56, 0, 100, 7, 8, 9, 4, 0, 100, 12, 0, 100, 10, 1, 0, 100]\n"
     ]
    }
   ],
   "source": []
  },
  {
   "cell_type": "code",
   "execution_count": 10,
   "id": "ec7bc7a3-9afe-4072-8836-d69a42b4a8e3",
   "metadata": {},
   "outputs": [
    {
     "data": {
      "text/plain": [
       "{'a': [1, 2, 2, 3, 4], 'b': [4, 5, 6]}"
      ]
     },
     "execution_count": 10,
     "metadata": {},
     "output_type": "execute_result"
    }
   ],
   "source": [
    "d = {'a': [1,2],'b':[4,5,6]}\n",
    "d['a'].append(2)\n",
    "d['a'].append(3)\n",
    "d['a'].append(4)\n",
    "d"
   ]
  },
  {
   "cell_type": "code",
   "execution_count": 12,
   "id": "b6ee0c4e-2e59-4520-9609-0e6ddcb0d4c4",
   "metadata": {},
   "outputs": [
    {
     "name": "stdout",
     "output_type": "stream",
     "text": [
      "0\n",
      "Patient: 1 is self.status\n",
      "Patient: 2 is self.status\n",
      "Patient: 2 is self.status\n",
      "Patient: 3 is self.status\n",
      "Patient: 4 is self.status\n",
      "0\n",
      "Patient: 4 is self.status\n",
      "Patient: 5 is self.status\n",
      "Patient: 6 is self.status\n"
     ]
    }
   ],
   "source": [
    "for j in d.():\n",
    "    count = d[i].count(j)\n",
    "    print(count)\n",
    "    for k in j:\n",
    "        print('Patient:',k, 'is' ,\"self.status\")"
   ]
  },
  {
   "cell_type": "code",
   "execution_count": 21,
   "id": "7f993d0b-2c3e-4900-a989-4deab4dd1f5a",
   "metadata": {},
   "outputs": [
    {
     "name": "stdout",
     "output_type": "stream",
     "text": [
      "1\n"
     ]
    },
    {
     "ename": "TypeError",
     "evalue": "'builtin_function_or_method' object is not subscriptable",
     "output_type": "error",
     "traceback": [
      "\u001b[1;31m---------------------------------------------------------------------------\u001b[0m",
      "\u001b[1;31mTypeError\u001b[0m                                 Traceback (most recent call last)",
      "Cell \u001b[1;32mIn[21], line 5\u001b[0m\n\u001b[0;32m      3\u001b[0m     nxt \u001b[38;5;241m=\u001b[39m j[\u001b[38;5;241m0\u001b[39m]\n\u001b[0;32m      4\u001b[0m     \u001b[38;5;28mprint\u001b[39m(nxt)\n\u001b[1;32m----> 5\u001b[0m j\u001b[38;5;241m.\u001b[39mpop[nxt]\n",
      "\u001b[1;31mTypeError\u001b[0m: 'builtin_function_or_method' object is not subscriptable"
     ]
    }
   ],
   "source": [
    "for i,j in d.items():\n",
    "    if j:\n",
    "        nxt = j[0]\n",
    "        print(nxt)\n",
    "        j.pop[nxt]\n",
    "   "
   ]
  },
  {
   "cell_type": "code",
   "execution_count": 9,
   "id": "26292490-4092-49dc-a8c4-c38aa4d3cca1",
   "metadata": {},
   "outputs": [
    {
     "name": "stdout",
     "output_type": "stream",
     "text": [
      "1\n"
     ]
    }
   ],
   "source": [
    "l=[1,2,3]\n",
    "print(l[0])\n",
    "# while l:\n",
    "#     a = l[0]\n",
    "#     print(a)\n",
    "#     l.remove(l[0])"
   ]
  },
  {
   "cell_type": "code",
   "execution_count": 43,
   "id": "3b2fa531-5c3b-4b5e-ba26-c6ee0cfa7300",
   "metadata": {},
   "outputs": [
    {
     "data": {
      "text/plain": [
       "1"
      ]
     },
     "execution_count": 43,
     "metadata": {},
     "output_type": "execute_result"
    }
   ],
   "source": [
    "li=[1,2,3]\n",
    "# print(l[0])\n",
    "li.pop(0)"
   ]
  },
  {
   "cell_type": "code",
   "execution_count": 55,
   "id": "8994462d-8072-4ddf-a6f3-147ffdcf9d9d",
   "metadata": {},
   "outputs": [
    {
     "name": "stdout",
     "output_type": "stream",
     "text": [
      "Patient: 1 is self.status\n",
      "Patient: 2 is self.status\n",
      "Patient: 4 is self.status\n",
      "Patient: 5 is self.status\n",
      "Patient: 6 is self.status\n"
     ]
    }
   ],
   "source": [
    "d = {'a': [1, 2], 'b': [4, 5, 6]}\n",
    "\n",
    "# Iterate over the dictionary keys\n",
    "for key in list(d.keys()):  # Create a list of keys to avoid modifying the dictionary during iteration\n",
    "    while d[key]:  # While the list associated with the key is not empty\n",
    "        a = d[key][0]\n",
    "        print(f'Patient: {a} is self.status')\n",
    "        d[key].remove(d[key][0])"
   ]
  },
  {
   "cell_type": "code",
   "execution_count": 57,
   "id": "5dbb589b-7b3c-422b-ab9b-d6d17957bdaf",
   "metadata": {},
   "outputs": [
    {
     "name": "stdout",
     "output_type": "stream",
     "text": [
      "{'a': [], 'b': []}\n"
     ]
    }
   ],
   "source": []
  },
  {
   "cell_type": "code",
   "execution_count": 31,
   "id": "2130353a-f234-4afc-b7f3-42bacbbb2c43",
   "metadata": {},
   "outputs": [
    {
     "name": "stdout",
     "output_type": "stream",
     "text": [
      "1\n",
      "4\n"
     ]
    }
   ],
   "source": [
    "d = {'a': [1, 2], 'b': [4, 5, 6]}\n",
    "for value in d.values():\n",
    "    nxt = value[0]\n",
    "    print(nxt)\n",
    "    "
   ]
  },
  {
   "cell_type": "code",
   "execution_count": 21,
   "id": "63ca0c09-82a1-49c7-b6ff-a5e0e902581d",
   "metadata": {},
   "outputs": [
    {
     "name": "stdout",
     "output_type": "stream",
     "text": [
      "1\n",
      "2\n",
      "Final list: []\n"
     ]
    }
   ],
   "source": [
    "d = {'a': [1, 2], 'b': [4, 5, 6]}\n",
    "\n",
    "# Process and remove values related to the key 'a'\n",
    "while d['a']:\n",
    "    nxt = d['a'].pop(0)  # Remove and return the first element\n",
    "    print(nxt)\n",
    "\n",
    "print(\"Final list:\", d['a'])"
   ]
  },
  {
   "cell_type": "code",
   "execution_count": 25,
   "id": "fe4c21e4-ad53-4777-ad0d-28db985e4581",
   "metadata": {},
   "outputs": [
    {
     "data": {
      "text/plain": [
       "{'a': [5, 2, 6], 'b': [7, 5, 6]}"
      ]
     },
     "execution_count": 25,
     "metadata": {},
     "output_type": "execute_result"
    }
   ],
   "source": [
    "d = {'a': [5, 2], 'b': [7, 5, 6]}\n",
    "\n",
    "d['a'].append(6)\n",
    "d"
   ]
  },
  {
   "cell_type": "code",
   "execution_count": 29,
   "id": "0a60b382-e5b1-46fd-bc8f-91c135c47b9a",
   "metadata": {},
   "outputs": [
    {
     "data": {
      "text/plain": [
       "[2, 5, 6]"
      ]
     },
     "execution_count": 29,
     "metadata": {},
     "output_type": "execute_result"
    }
   ],
   "source": [
    "d['a'].sort()\n",
    "d['a']"
   ]
  },
  {
   "cell_type": "code",
   "execution_count": 5,
   "id": "d56817e9-ce8f-4f9b-a959-071bb1ebeffd",
   "metadata": {},
   "outputs": [
    {
     "name": "stdin",
     "output_type": "stream",
     "text": [
      "0 normal / 1 urgent / 2 super urgent:  1\n",
      "Enter the name:  ankit\n"
     ]
    }
   ],
   "source": [
    "l = []\n",
    "status = int(input('0 normal / 1 urgent / 2 super urgent: '))\n",
    "\n",
    "if status == 0:\n",
    "    status = 'normal'\n",
    "elif status == 1:\n",
    "    status = 'urgent'\n",
    "elif status == 2:\n",
    "    status = 'super urgent'\n",
    "\n",
    "name = input(\"Enter the name: \")\n",
    "\n"
   ]
  },
  {
   "cell_type": "code",
   "execution_count": 25,
   "id": "b7b80436-0535-49e0-a3ea-81a7f070b4ab",
   "metadata": {},
   "outputs": [
    {
     "name": "stdout",
     "output_type": "stream",
     "text": [
      "<class 'dict'>\n",
      "{1: [], 2: [], 3: [], 4: [], 5: [], 6: [], 7: [], 8: [], 9: [], 10: [], 11: [], 12: [], 13: [], 14: [], 15: [], 16: [], 17: [], 18: [], 19: [], 20: []}\n"
     ]
    }
   ],
   "source": [
    "class HospitalSystem:\n",
    "    def __init__(self):\n",
    "        self.specializations = {i: [] for i in range(1, 21)}\n",
    "        print(type(self.specializations))\n",
    "        print(self.specializations)\n",
    "        \n",
    "        \n",
    "l = HospitalSystem()\n"
   ]
  },
  {
   "cell_type": "code",
   "execution_count": 23,
   "id": "f02084fa-c982-4d06-847d-92f596b7d3e7",
   "metadata": {},
   "outputs": [
    {
     "name": "stdout",
     "output_type": "stream",
     "text": [
      "<class 'dict'>\n",
      "{1: [], 2: [], 3: [], 4: [], 5: [], 6: [], 7: [], 8: [], 9: [], 10: [], 11: [], 12: [], 13: [], 14: [], 15: [], 16: [], 17: [], 18: [], 19: [], 20: []}\n"
     ]
    }
   ],
   "source": [
    "l.__init__()"
   ]
  },
  {
   "cell_type": "code",
   "execution_count": 15,
   "id": "621ac4b8-3e6c-4a47-a035-b79752a724e9",
   "metadata": {},
   "outputs": [],
   "source": [
    "class hospital:\n",
    "    def __init__(self):\n",
    "        self.patients = {'Children':{'super urgent':[], 'urgent':[], 'normal':[]},\n",
    "                         'Heart':{'super urgent':[], 'urgent':[], 'normal':[]} ,\n",
    "                         'Physiotherapist':{'super urgent':[], 'urgent':[], 'normal':[]},\n",
    "                         'ENT':{'super urgent':[], 'urgent':[], 'normal':[]}\n",
    "                        }\n",
    "\n",
    "    def get_spec(self):\n",
    "        self.children = print('1. Children')\n",
    "        self.heart =  print('2. Heart')\n",
    "        self.physio = print('3. Physiotherapist')\n",
    "        self.ENT = print('4. ENT')\n",
    "        spec = int(input(\"Enter Specialization: \"))\n",
    "        if spec == 1:\n",
    "            return 'Children'\n",
    "        elif spec == 2:\n",
    "            return \"Heart\"\n",
    "        elif spec == 3:\n",
    "            return 'Physiotherapist'\n",
    "        elif spec == 4:\n",
    "            return 'ENT'\n",
    "        else:\n",
    "            print(\"Invalid specialization.\")\n",
    "            return None\n",
    "\n",
    "    def get_status(self):\n",
    "        self.status = int(input('0 normal / 1 urgent / 2 super urgent: '))\n",
    "        if self.status == 0:\n",
    "            return 'normal'\n",
    "        elif self.status == 1:\n",
    "            return 'urgent'\n",
    "        elif self.status == 2:\n",
    "            return 'super urgent'\n",
    "        else:\n",
    "            print(\"Invalid specialization\")\n",
    "            return None\n",
    "\n",
    "    def add_patients(self):\n",
    "        specialisation = self.get_spec()\n",
    "        name = input(\"Enter the name: \")\n",
    "        status = self.get_status()\n",
    "        if specialisation and status:\n",
    "            self.patients[specialisation][status].append(name)\n",
    "            \n",
    "    def print_all_patients(self):\n",
    "        for key,value in (self.patients).items():\n",
    "            self.count = sum(len(patients) for patients in value.values())\n",
    "            print(f\"{key}: There are {self.count} patients\")\n",
    "            for i,y in value.items():\n",
    "                for patients in y:\n",
    "                    print('Patient:',patients, 'is' ,self.status)\n",
    "\n",
    "\n",
    "k = hospital()\n"
   ]
  },
  {
   "cell_type": "code",
   "execution_count": 17,
   "id": "641b930f-114a-47fe-a5ea-d0bb56ce7e6b",
   "metadata": {},
   "outputs": [
    {
     "name": "stdin",
     "output_type": "stream",
     "text": [
      "0 normal / 1 urgent / 2 super urgent:  2\n"
     ]
    },
    {
     "data": {
      "text/plain": [
       "'super urgent'"
      ]
     },
     "execution_count": 17,
     "metadata": {},
     "output_type": "execute_result"
    }
   ],
   "source": [
    "k.get_status()"
   ]
  },
  {
   "cell_type": "code",
   "execution_count": 7,
   "id": "1a46ea70-fcc8-4a60-9bfa-d3fe7f821778",
   "metadata": {},
   "outputs": [
    {
     "name": "stdout",
     "output_type": "stream",
     "text": [
      "1. Children\n",
      "2. Heart\n",
      "3. Physiotherapist\n",
      "4. ENT\n"
     ]
    },
    {
     "name": "stdin",
     "output_type": "stream",
     "text": [
      "Enter Specialization:  1\n",
      "Enter the name:  ankit\n",
      "0 normal / 1 urgent / 2 super urgent:  0\n"
     ]
    }
   ],
   "source": [
    "k.add_patients()"
   ]
  },
  {
   "cell_type": "code",
   "execution_count": null,
   "id": "e74a838e-1f98-484e-823b-132401c14e2c",
   "metadata": {},
   "outputs": [],
   "source": []
  },
  {
   "cell_type": "code",
   "execution_count": 9,
   "id": "93cd9f3f-ae6b-4d61-aa06-0b2a33a26f32",
   "metadata": {},
   "outputs": [
    {
     "name": "stdout",
     "output_type": "stream",
     "text": [
      "Children: There are 0 patients\n",
      "Heart: There are 0 patients\n",
      "Physiotherapist: There are 0 patients\n",
      "ENT: There are 0 patients\n"
     ]
    }
   ],
   "source": [
    "k.print_all_patients()"
   ]
  },
  {
   "cell_type": "code",
   "execution_count": null,
   "id": "6a90093b-17c5-4b09-b498-37141d4343a6",
   "metadata": {},
   "outputs": [
    {
     "name": "stdin",
     "output_type": "stream",
     "text": [
      "1) Add new patient\n",
      "2) Print all patients\n",
      "3) Get next patient\n",
      "4) Remove a leaving patient\n",
      "5) End the program\n",
      "Enter your choice (from 1 to 5):  1\n"
     ]
    },
    {
     "name": "stdout",
     "output_type": "stream",
     "text": [
      "1. Children\n",
      "2. Heart\n",
      "3. Physiotherapist\n",
      "4. ENT\n"
     ]
    },
    {
     "name": "stdin",
     "output_type": "stream",
     "text": [
      "Enter Specialization:  1\n",
      "Enter the name:  ankit\n",
      "0 normal / 1 urgent / 2 super urgent:  0\n",
      "1) Add new patient\n",
      "2) Print all patients\n",
      "3) Get next patient\n",
      "4) Remove a leaving patient\n",
      "5) End the program\n",
      "Enter your choice (from 1 to 5):  1\n"
     ]
    },
    {
     "name": "stdout",
     "output_type": "stream",
     "text": [
      "1. Children\n",
      "2. Heart\n",
      "3. Physiotherapist\n",
      "4. ENT\n"
     ]
    },
    {
     "name": "stdin",
     "output_type": "stream",
     "text": [
      "Enter Specialization:  1\n",
      "Enter the name:  yadav\n",
      "0 normal / 1 urgent / 2 super urgent:  2\n",
      "1) Add new patient\n",
      "2) Print all patients\n",
      "3) Get next patient\n",
      "4) Remove a leaving patient\n",
      "5) End the program\n",
      "Enter your choice (from 1 to 5):  2\n"
     ]
    },
    {
     "name": "stdout",
     "output_type": "stream",
     "text": [
      "Children: There are 2 patients\n",
      "Patient: yadav is super urgent\n",
      "Patient: ankit is normal\n",
      "Heart: There are 0 patients\n",
      "Physiotherapist: There are 0 patients\n",
      "ENT: There are 0 patients\n"
     ]
    }
   ],
   "source": [
    "class hospital:\n",
    "    def __init__(self):\n",
    "        self.patients = {\n",
    "            'Children': {'super urgent': [], 'urgent': [], 'normal': []},\n",
    "            'Heart': {'super urgent': [], 'urgent': [], 'normal': []},\n",
    "            'Physiotherapist': {'super urgent': [], 'urgent': [], 'normal': []},\n",
    "            'ENT': {'super urgent': [], 'urgent': [], 'normal': []}\n",
    "        }\n",
    "\n",
    "    def get_spec(self):\n",
    "        print('1. Children')\n",
    "        print('2. Heart')\n",
    "        print('3. Physiotherapist')\n",
    "        print('4. ENT')\n",
    "        spec = int(input(\"Enter Specialization: \"))\n",
    "        if spec == 1:\n",
    "            return 'Children'\n",
    "        elif spec == 2:\n",
    "            return 'Heart'\n",
    "        elif spec == 3:\n",
    "            return 'Physiotherapist'\n",
    "        elif spec == 4:\n",
    "            return 'ENT'\n",
    "        else:\n",
    "            print(\"Invalid specialization.\")\n",
    "            return None\n",
    "\n",
    "    def get_status(self):\n",
    "        status = int(input('0 normal / 1 urgent / 2 super urgent: '))\n",
    "        if status == 0:\n",
    "            return 'normal'\n",
    "        elif status == 1:\n",
    "            return 'urgent'\n",
    "        elif status == 2:\n",
    "            return 'super urgent'\n",
    "        else:\n",
    "            print(\"Invalid status.\")\n",
    "            return None\n",
    "\n",
    "    def add_patients(self):\n",
    "        specialisation = self.get_spec()\n",
    "        name = input(\"Enter the name: \")\n",
    "        status = self.get_status()\n",
    "        if specialisation and status:\n",
    "            self.patients[specialisation][status].append(name)\n",
    "\n",
    "    def print_all_patients(self):\n",
    "        for spec, priority_dict in self.patients.items():\n",
    "            total_count = sum(len(patients) for patients in priority_dict.values())\n",
    "            print(f\"{spec}: There are {total_count} patients\")\n",
    "            for status, patients in priority_dict.items():\n",
    "                for patient in patients:\n",
    "                    print(f'Patient: {patient} is {status}')\n",
    "\n",
    "    def next_patient(self):\n",
    "        spec = self.get_spec()\n",
    "        if spec:\n",
    "            for status in ['super urgent', 'urgent', 'normal']:\n",
    "                if self.patients[spec][status]:\n",
    "                    next_patient = self.patients[spec][status].pop(0)\n",
    "                    print(f\"{next_patient}, please go with the doctor. (Status: {status})\")\n",
    "                    break\n",
    "            else:\n",
    "                print(f\"No patients available in {spec} specialization.\")\n",
    "\n",
    "    def leaving_patient(self):\n",
    "        spec = self.get_spec()\n",
    "        if spec:\n",
    "            name = input(\"Enter the name: \")\n",
    "            for status, patients in self.patients[spec].items():\n",
    "                if name in patients:\n",
    "                    patients.remove(name)\n",
    "                    print(f\"{spec}: {name} is leaving.\")\n",
    "                    break\n",
    "            else:\n",
    "                print(f\"{name} not found in {spec} specialization.\")\n",
    "\n",
    "    def options(self):\n",
    "        while True:\n",
    "            option = int(input('''1) Add new patient\n",
    "2) Print all patients\n",
    "3) Get next patient\n",
    "4) Remove a leaving patient\n",
    "5) End the program\n",
    "Enter your choice (from 1 to 5): '''))\n",
    "            if option == 1:\n",
    "                self.add_patients()\n",
    "            elif option == 2:\n",
    "                self.print_all_patients()\n",
    "            elif option == 3:\n",
    "                self.next_patient()\n",
    "            elif option == 4:\n",
    "                self.leaving_patient()\n",
    "            elif option == 5:\n",
    "                print(\"Exiting\")\n",
    "                break\n",
    "            else:\n",
    "                print(\"Invalid! Please choose from 1 to 5\")\n",
    "\n",
    "\n",
    "class c_hospital(hospital):\n",
    "    def patient(self):\n",
    "        super().options()\n",
    "\n",
    "\n",
    "# Example of running the program\n",
    "my_hospital = c_hospital()\n",
    "my_hospital.patient()\n"
   ]
  },
  {
   "cell_type": "code",
   "execution_count": null,
   "id": "8e0652ec-c412-462f-9b90-6944f678fb6d",
   "metadata": {},
   "outputs": [],
   "source": []
  }
 ],
 "metadata": {
  "kernelspec": {
   "display_name": "Python 3 (ipykernel)",
   "language": "python",
   "name": "python3"
  },
  "language_info": {
   "codemirror_mode": {
    "name": "ipython",
    "version": 3
   },
   "file_extension": ".py",
   "mimetype": "text/x-python",
   "name": "python",
   "nbconvert_exporter": "python",
   "pygments_lexer": "ipython3",
   "version": "3.11.7"
  }
 },
 "nbformat": 4,
 "nbformat_minor": 5
}
